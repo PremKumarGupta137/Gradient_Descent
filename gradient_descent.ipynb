{
 "cells": [
  {
   "cell_type": "code",
   "execution_count": 20,
   "id": "49d8ce4e-65e0-425d-9af2-d86b3c122151",
   "metadata": {},
   "outputs": [
    {
     "name": "stdout",
     "output_type": "stream",
     "text": [
      "m = 0.062, b = 0.018000000000000002, cost = 89.0, iteration = 0\n",
      "m = 0.122528, b = 0.035592000000000006, cost = 84.881304, iteration = 1\n",
      "m = 0.181618832, b = 0.052785648000000004, cost = 80.955185108544, iteration = 2\n",
      "m = 0.239306503808, b = 0.069590363712, cost = 77.21263768455901, iteration = 3\n",
      "m = 0.29562421854195203, b = 0.086015343961728, cost = 73.64507722605434, iteration = 4\n",
      "m = 0.35060439367025875, b = 0.10206956796255283, cost = 70.2443206760065, iteration = 5\n",
      "m = 0.40427867960173774, b = 0.11776180246460617, cost = 67.00256764921804, iteration = 6\n",
      "m = 0.4566779778357119, b = 0.13310060678206653, cost = 63.912382537082294, iteration = 7\n",
      "m = 0.5078324586826338, b = 0.14809433770148814, cost = 60.966677449199324, iteration = 8\n",
      "m = 0.5577715785654069, b = 0.16275115427398937, cost = 58.15869595270883, iteration = 9\n"
     ]
    }
   ],
   "source": [
    "import numpy as np\n",
    "\n",
    "def gradient_descent(x, y):\n",
    "    m_curr = b_curr = 0\n",
    "    iterations = 10\n",
    "    n = len(x)\n",
    "    learning_rate = 0.001\n",
    "    \n",
    "    for i in range(iterations):\n",
    "        y_predicted = m_curr * x + b_curr\n",
    "        cost = (1 / n) * sum([val**2 for val in (y - y_predicted)])\n",
    "        md = -(2 / n) * sum(x * (y - y_predicted))\n",
    "        bd = -(2 / n) * sum(y - y_predicted)\n",
    "        m_curr = m_curr - learning_rate * md\n",
    "        b_curr = b_curr - learning_rate * bd\n",
    "        print(f\"m = {m_curr}, b = {b_curr}, cost = {cost}, iteration = {i}\")\n",
    "\n",
    "x = np.array([1, 2, 3,4,5])\n",
    "y = np.array([5,7,9,11,13])\n",
    "\n",
    "gradient_descent(x, y)\n"
   ]
  },
  {
   "cell_type": "code",
   "execution_count": null,
   "id": "ecf3e923-cae2-4b8b-84a4-cb7050ff5597",
   "metadata": {},
   "outputs": [],
   "source": []
  }
 ],
 "metadata": {
  "kernelspec": {
   "display_name": "Python [conda env:base] *",
   "language": "python",
   "name": "conda-base-py"
  },
  "language_info": {
   "codemirror_mode": {
    "name": "ipython",
    "version": 3
   },
   "file_extension": ".py",
   "mimetype": "text/x-python",
   "name": "python",
   "nbconvert_exporter": "python",
   "pygments_lexer": "ipython3",
   "version": "3.12.7"
  }
 },
 "nbformat": 4,
 "nbformat_minor": 5
}
